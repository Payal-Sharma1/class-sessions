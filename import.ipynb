{
 "cells": [
  {
   "cell_type": "code",
   "execution_count": 10,
   "id": "8ac6fa82-754a-46b9-a591-0127a1b5cd21",
   "metadata": {},
   "outputs": [
    {
     "name": "stdin",
     "output_type": "stream",
     "text": [
      " 7\n"
     ]
    },
    {
     "name": "stdout",
     "output_type": "stream",
     "text": [
      "1 2 3 "
     ]
    },
    {
     "data": {
      "text/plain": [
       "3"
      ]
     },
     "execution_count": 10,
     "metadata": {},
     "output_type": "execute_result"
    }
   ],
   "source": [
    "n = int(input())\n",
    "\n",
    "def cal_febon(n):\n",
    "    a=0\n",
    "    b=1\n",
    "    while(10>n>=0):\n",
    "        c=a+b\n",
    "        print(c,end=' ')\n",
    "        a=b\n",
    "        b=c\n",
    "        n+=1\n",
    "    return c\n",
    "cal_febon(n)\n",
    "  "
   ]
  },
  {
   "cell_type": "code",
   "execution_count": 24,
   "id": "38543fea-2176-469a-93ae-b55a94ec31b1",
   "metadata": {},
   "outputs": [
    {
     "name": "stdout",
     "output_type": "stream",
     "text": [
      "time required to execute 0.13468319999992673\n"
     ]
    }
   ],
   "source": [
    "from timeit import timeit\n",
    "def fib():\n",
    "    n=100000\n",
    "    if n<=2:\n",
    "        return 1\n",
    "print(\"time required to execute\",timeit(fib))"
   ]
  },
  {
   "cell_type": "code",
   "execution_count": 27,
   "id": "0a6ac4ae-a8c5-46da-a657-45db84b536d6",
   "metadata": {},
   "outputs": [
    {
     "name": "stdout",
     "output_type": "stream",
     "text": [
      "43466557686937456435688527675040625802564660517371780402481729089536555417949051890403879840079255169295922593080322634775209689623239873322471161642996440906533187938298969649928516003704476137795166849228875\n",
      "0.0\n"
     ]
    }
   ],
   "source": [
    "import time\n",
    "begin=time.time()\n",
    "memory={0:0,1:1}\n",
    "def fin_update(n):\n",
    "    if n not in memory:\n",
    "        memory[n]=fin_update(n-1)+fin_update(n-2)\n",
    "    return memory[n]\n",
    "print(fin_update(1000))\n",
    "end=time.time()\n",
    "print(end-begin)"
   ]
  },
  {
   "cell_type": "code",
   "execution_count": 4,
   "id": "37aff5ae-9be5-479c-9468-0a1a6e7e79ee",
   "metadata": {},
   "outputs": [],
   "source": []
  },
  {
   "cell_type": "code",
   "execution_count": null,
   "id": "3304bcc6-322b-4b23-8291-75dc3a8ae1fe",
   "metadata": {},
   "outputs": [],
   "source": []
  }
 ],
 "metadata": {
  "kernelspec": {
   "display_name": "Python 3 (ipykernel)",
   "language": "python",
   "name": "python3"
  },
  "language_info": {
   "codemirror_mode": {
    "name": "ipython",
    "version": 3
   },
   "file_extension": ".py",
   "mimetype": "text/x-python",
   "name": "python",
   "nbconvert_exporter": "python",
   "pygments_lexer": "ipython3",
   "version": "3.12.2"
  }
 },
 "nbformat": 4,
 "nbformat_minor": 5
}
