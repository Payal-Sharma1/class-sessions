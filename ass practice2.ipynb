{
 "cells": [
  {
   "cell_type": "code",
   "execution_count": null,
   "id": "2af58448-e6ae-4ae1-accd-b57212b78f1f",
   "metadata": {},
   "outputs": [],
   "source": [
    "def order(order):\n",
    "    # Create an empty stack to store orders\n",
    "    order_stack = []\n",
    "\n",
    "    # Push orders onto the stack in reverse order\n",
    "    for item in reversed(order):\n",
    "        order_stack.append(item)\n",
    "\n",
    "    # Process orders and dispatch them\n",
    "    print(\"Preparing your Orders:\")\n",
    "    for _ in range(len(order_stack)):\n",
    "        current_order = order_stack.pop()\n",
    "        print(\"Preparing your Order -\", current_order)\n",
    "\n",
    "    print(\"\\nThe following orders have been dispatched:\")\n",
    "    for item in order:\n",
    "        print(item)\n",
    "\n",
    "# Example usage\n",
    "orders = [\"palak paneer\", \"bhindi\", \"dal\"]\n",
    "order(orders)"
   ]
  }
 ],
 "metadata": {
  "kernelspec": {
   "display_name": "",
   "name": ""
  },
  "language_info": {
   "name": ""
  }
 },
 "nbformat": 4,
 "nbformat_minor": 5
}
