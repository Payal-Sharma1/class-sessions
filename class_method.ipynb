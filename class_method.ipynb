{
 "cells": [
  {
   "cell_type": "code",
   "execution_count": 3,
   "id": "9e326c7a-e916-48cc-af61-c3cd4de1cea7",
   "metadata": {},
   "outputs": [
    {
     "name": "stdout",
     "output_type": "stream",
     "text": [
      "10000.0\n",
      "the product should be one year old \n",
      "1\n"
     ]
    }
   ],
   "source": [
    "class AndroidHandset():\n",
    "    _modelcount = 1\n",
    "    BasePrize = 10000\n",
    "    Year = 2024\n",
    "    def __init__(self,_brandname,_modelyear):\n",
    "        self._brandname= _brandname\n",
    "        self._modelyear=_modelyear\n",
    "        self.count=AndroidHandset._modelcount\n",
    "        AndroidHandset._modelcount =+1\n",
    "        \n",
    "    def get_value(self):\n",
    "        age= AndroidHandset.Year-self._modelyear\n",
    "        if age < 1:\n",
    "            return ('the product should be one year old ')\n",
    "        else:\n",
    "            value = AndroidHandset.BasePrize*(1/age)\n",
    "            return value\n",
    "    \n",
    "obj = AndroidHandset('nok',2023)\n",
    "print(obj.get_value())\n",
    "obj1 = AndroidHandset('sa',2024)\n",
    "print(obj1.get_value())\n",
    "print(obj1.count)\n"
   ]
  },
  {
   "cell_type": "code",
   "execution_count": 12,
   "id": "63adf846-130a-462d-a7eb-245679a73e1c",
   "metadata": {},
   "outputs": [
    {
     "name": "stdout",
     "output_type": "stream",
     "text": [
      "5000.0\n",
      "5000.0\n",
      "1\n"
     ]
    }
   ],
   "source": [
    "class AndroidHandset():\n",
    "    _modelcount = 1\n",
    "    BasePrize = 10000\n",
    "    Year = 2024\n",
    "    def __init__(self,_brandname,_modelyear):\n",
    "        self._brandname= _brandname\n",
    "        self._modelyear=_modelyear\n",
    "        self.count=AndroidHandset._modelcount\n",
    "        AndroidHandset._modelcount =+1\n",
    "        \n",
    "    def get_value(self):\n",
    "        age= AndroidHandset.Year-self._modelyear\n",
    "        if age < 1:\n",
    "            return ('the product should be one year old ')\n",
    "        else:\n",
    "            value = AndroidHandset.BasePrize*(1/age)\n",
    "            return value\n",
    "    \n",
    "\n",
    "class Ioshandset(AndroidHandset):\n",
    "    def __init__(self,brandname,_modelyear):\n",
    "        super().__init__(brandname,_modelyear)\n",
    "    def get_value(self):\n",
    "        AndroidHandset.BasePrize=20000\n",
    "        return AndroidHandset,year-self._modelyear\n",
    "obj = AndroidHandset('nok',2022)\n",
    "print(obj.get_value())\n",
    "obj1 = AndroidHandset('sa',2022)\n",
    "print(obj1.get_value())\n",
    "print(obj1.count)\n",
    "        \n"
   ]
  },
  {
   "cell_type": "code",
   "execution_count": 25,
   "id": "6d9e488d-e8f6-4263-99b4-76951edd612d",
   "metadata": {},
   "outputs": [
    {
     "name": "stdout",
     "output_type": "stream",
     "text": [
      "1000\n",
      "1000\n",
      "1\n"
     ]
    },
    {
     "data": {
      "text/plain": [
       "'class choice(tyshirt):\\n    def __init__(self,brandname,colour):\\n        super().__init__(brandname,colour)'"
      ]
     },
     "execution_count": 25,
     "metadata": {},
     "output_type": "execute_result"
    }
   ],
   "source": [
    "class tyshirt():\n",
    "    brandcount = 1\n",
    "    baseprice = 1000\n",
    "    def __init__(self,brandname,colour):\n",
    "        self.brandname=brandname\n",
    "        self.colour=colour\n",
    "        self.count=tyshirt.brandcount\n",
    "        tyshirt.brandcount=+1\n",
    "    def get_valuation(self):\n",
    "        value=tyshirt.baseprice\n",
    "        return value\n",
    "obj = tyshirt('zudio','blue')\n",
    "print(obj.get_valuation())\n",
    "obj1 = tyshirt('amazon','black')\n",
    "print(obj1.get_valuation())\n",
    "print(obj1.count)\n",
    "class choice(tyshirt):\n",
    "    def __init__(self,brandname,colour):\n",
    "        super().__init__(brandname,colour)\n",
    "    def get_value(self):\n",
    "        tyshirt.baseprice=500\n",
    "    "
   ]
  },
  {
   "cell_type": "code",
   "execution_count": null,
   "id": "f9cd4a84-c2f5-4c36-aeb8-f240461b917e",
   "metadata": {},
   "outputs": [],
   "source": [
    "\n"
   ]
  }
 ],
 "metadata": {
  "kernelspec": {
   "display_name": "Python 3 (ipykernel)",
   "language": "python",
   "name": "python3"
  },
  "language_info": {
   "codemirror_mode": {
    "name": "ipython",
    "version": 3
   },
   "file_extension": ".py",
   "mimetype": "text/x-python",
   "name": "python",
   "nbconvert_exporter": "python",
   "pygments_lexer": "ipython3",
   "version": "3.12.2"
  }
 },
 "nbformat": 4,
 "nbformat_minor": 5
}
