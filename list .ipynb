{
 "cells": [
  {
   "cell_type": "code",
   "execution_count": 2,
   "id": "151c82d9-abfb-4eb1-a490-ea211d661c5e",
   "metadata": {},
   "outputs": [
    {
     "data": {
      "text/plain": [
       "[1, 2, 3, 'payal', 10]"
      ]
     },
     "execution_count": 2,
     "metadata": {},
     "output_type": "execute_result"
    }
   ],
   "source": [
    "a=[1,2,3,'payal']\n",
    "a.append(10)\n",
    "a"
   ]
  },
  {
   "cell_type": "code",
   "execution_count": 3,
   "id": "8d89fba8-59df-4c4f-b8f2-5c9a1b49cb71",
   "metadata": {},
   "outputs": [
    {
     "data": {
      "text/plain": [
       "[1, 3, 'payal']"
      ]
     },
     "execution_count": 3,
     "metadata": {},
     "output_type": "execute_result"
    }
   ],
   "source": [
    "a=[1,2,3,'payal']\n",
    "a.remove(2)\n",
    "a"
   ]
  },
  {
   "cell_type": "code",
   "execution_count": 53,
   "id": "949bb329-1d4e-49b4-96c5-8990d45d21f9",
   "metadata": {},
   "outputs": [
    {
     "data": {
      "text/plain": [
       "[1, 3, 'payal']"
      ]
     },
     "execution_count": 53,
     "metadata": {},
     "output_type": "execute_result"
    }
   ],
   "source": [
    "a=[1,2,3,'payal']\n",
    "a.pop(1)\n",
    "a"
   ]
  },
  {
   "cell_type": "code",
   "execution_count": 31,
   "id": "6829653e-be5c-4307-bea8-2e2e85e439ea",
   "metadata": {},
   "outputs": [
    {
     "name": "stdout",
     "output_type": "stream",
     "text": [
      "1822065688064\n",
      "1822072516224\n"
     ]
    }
   ],
   "source": [
    "L1=[1,2,4,5]\n",
    "L2 =[1,2,4,5]\n",
    "print (id(L1))\n",
    "print (id(L2))"
   ]
  },
  {
   "cell_type": "code",
   "execution_count": 44,
   "id": "4f30460a-855e-41e4-ac7d-dd6497b229be",
   "metadata": {},
   "outputs": [
    {
     "name": "stdout",
     "output_type": "stream",
     "text": [
      "[3, 4, 5, 6, 7, 8, 9]\n"
     ]
    }
   ],
   "source": [
    "List1=[1,2,3,4,5,6,7,8,9]\n",
    "List1[0:5]\n",
    "List1[:]\n",
    "List1[1:4:7]\n",
    "k=len(List1)\n",
    "print(List1[2:k])"
   ]
  },
  {
   "cell_type": "code",
   "execution_count": 43,
   "id": "37c939d5-294c-4215-aa60-6485410b9f00",
   "metadata": {},
   "outputs": [
    {
     "data": {
      "text/plain": [
       "[1, 2, 3, 4, 5, 6, 7, 8]"
      ]
     },
     "execution_count": 43,
     "metadata": {},
     "output_type": "execute_result"
    }
   ],
   "source": [
    "list1=[1,2,3,4,5,6,7,8,9]\n",
    "m=k//2\n",
    "list1[m]\n",
    "list1[:-1]\n"
   ]
  },
  {
   "cell_type": "code",
   "execution_count": 47,
   "id": "333f70b3-22df-4aa9-a35d-7bcdd7138f39",
   "metadata": {},
   "outputs": [
    {
     "name": "stdout",
     "output_type": "stream",
     "text": [
      "1\n",
      "2\n",
      "3\n",
      "4\n",
      "5\n",
      "6\n",
      "7\n",
      "8\n",
      "9\n"
     ]
    }
   ],
   "source": [
    "for ele in range(len(list1)):\n",
    "    print(list1[ele])"
   ]
  },
  {
   "cell_type": "code",
   "execution_count": 48,
   "id": "9b618f32-2c06-4a9a-ab6a-c4bce5755635",
   "metadata": {},
   "outputs": [
    {
     "name": "stdout",
     "output_type": "stream",
     "text": [
      "3\n",
      "4\n",
      "5\n",
      "6\n",
      "7\n",
      "8\n",
      "9\n",
      "10\n",
      "11\n"
     ]
    }
   ],
   "source": [
    "for ele in range(len(list1)):\n",
    "    print(list1[ele]+2)"
   ]
  },
  {
   "cell_type": "code",
   "execution_count": 50,
   "id": "e9906254-7364-4d27-ba09-1895b752886f",
   "metadata": {},
   "outputs": [
    {
     "name": "stdout",
     "output_type": "stream",
     "text": [
      "5\n",
      "6\n",
      "7\n",
      "8\n",
      "9\n"
     ]
    }
   ],
   "source": [
    "k=len(list1)//2\n",
    "for ele in range(k,len(list1)):\n",
    "    print(list1[ele])"
   ]
  },
  {
   "cell_type": "code",
   "execution_count": 52,
   "id": "fe0a494a-b9ef-465d-89b4-ac8d0d8896e7",
   "metadata": {},
   "outputs": [
    {
     "name": "stdout",
     "output_type": "stream",
     "text": [
      "5\n",
      "6\n",
      "7\n",
      "8\n",
      "9\n"
     ]
    },
    {
     "data": {
      "text/plain": [
       "[4, 5, 6, 7, 8]"
      ]
     },
     "execution_count": 52,
     "metadata": {},
     "output_type": "execute_result"
    }
   ],
   "source": [
    "k=len(list1)//2\n",
    "new_list=[]\n",
    "for ele in range(k,len(list1)):\n",
    "   new_list.append(ele)\n",
    "   print(list1[ele])\n",
    "new_list"
   ]
  },
  {
   "cell_type": "code",
   "execution_count": null,
   "id": "5ef97a80-b746-4f8e-a542-ad84d1845757",
   "metadata": {},
   "outputs": [],
   "source": []
  }
 ],
 "metadata": {
  "kernelspec": {
   "display_name": "Python 3 (ipykernel)",
   "language": "python",
   "name": "python3"
  },
  "language_info": {
   "codemirror_mode": {
    "name": "ipython",
    "version": 3
   },
   "file_extension": ".py",
   "mimetype": "text/x-python",
   "name": "python",
   "nbconvert_exporter": "python",
   "pygments_lexer": "ipython3",
   "version": "3.12.2"
  }
 },
 "nbformat": 4,
 "nbformat_minor": 5
}
