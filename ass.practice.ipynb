{
 "cells": [
  {
   "cell_type": "code",
   "execution_count": 1,
   "id": "20f16147-76da-4f63-8a66-bd59f506e469",
   "metadata": {},
   "outputs": [
    {
     "name": "stdout",
     "output_type": "stream",
     "text": [
      "Player 1 removes 1 chocolate(s)\n",
      "Player 2 removes 2 chocolate(s)\n",
      "Player 1 removes 1 chocolate(s)\n",
      "Player 2 removes 2 chocolate(s)\n",
      "Player 1 removes 1 chocolate(s)\n",
      "Player 2 removes 2 chocolate(s)\n",
      "Player 1 removes 1 chocolate(s)\n",
      "Player 1 wins!\n"
     ]
    }
   ],
   "source": [
    "def player1(n):\n",
    "    if n <= 0:\n",
    "        return \"Player 2\"\n",
    "\n",
    "    a = 1  # Player 1 always takes 1 chocolate\n",
    "    n -= a\n",
    "    print(\"Player 1 removes\", a, \"chocolate(s)\")\n",
    "\n",
    "    return player2(n)\n",
    "\n",
    "def player2(n):\n",
    "    if n <= 0:\n",
    "        return \"Player 1\"\n",
    "\n",
    "    b = 2  # Player 2 always takes 2 chocolates\n",
    "    n -= b\n",
    "    print(\"Player 2 removes\", b, \"chocolate(s)\")\n",
    "\n",
    "    return player1(n)\n",
    "#taking 10 chocolates in a bowl\n",
    "initial_chocolates = 10\n",
    "winner = player1(initial_chocolates)\n",
    "print(winner, \"wins!\")\n"
   ]
  },
  {
   "cell_type": "code",
   "execution_count": 1,
   "id": "3b7db057-bb54-46c8-b21d-7eabe2fc5e0f",
   "metadata": {},
   "outputs": [],
   "source": [
    "import turtle\n",
    "def repeat_shape(t):\n",
    "    for i in range(15):\n",
    "        t.forward(50)\n",
    "        t.left(90)\n",
    "        t.forward(50)\n",
    "        t.left(90)\n",
    "        t.forward(50)\n",
    "        t.left(90)\n",
    "        t.forward(50)\n",
    "        t.left(90)\n",
    "        t.left(30)\n",
    "demo_1 = turtle.Turtle()\n",
    "repeat_shape(demo_1)\n"
   ]
  },
  {
   "cell_type": "code",
   "execution_count": 2,
   "id": "44888a5b-dada-4125-81a6-464723694ed8",
   "metadata": {},
   "outputs": [
    {
     "ename": "Terminator",
     "evalue": "",
     "output_type": "error",
     "traceback": [
      "\u001b[1;31m---------------------------------------------------------------------------\u001b[0m",
      "\u001b[1;31mTerminator\u001b[0m                                Traceback (most recent call last)",
      "Cell \u001b[1;32mIn[2], line 51\u001b[0m\n\u001b[0;32m     48\u001b[0m     wn\u001b[38;5;241m.\u001b[39mexitonclick()\n\u001b[0;32m     50\u001b[0m \u001b[38;5;28;01mif\u001b[39;00m \u001b[38;5;18m__name__\u001b[39m \u001b[38;5;241m==\u001b[39m \u001b[38;5;124m\"\u001b[39m\u001b[38;5;124m__main__\u001b[39m\u001b[38;5;124m\"\u001b[39m:\n\u001b[1;32m---> 51\u001b[0m     \u001b[43msketch\u001b[49m\u001b[43m(\u001b[49m\u001b[43m)\u001b[49m\n",
      "Cell \u001b[1;32mIn[2], line 39\u001b[0m, in \u001b[0;36msketch\u001b[1;34m()\u001b[0m\n\u001b[0;32m     38\u001b[0m \u001b[38;5;28;01mdef\u001b[39;00m \u001b[38;5;21msketch\u001b[39m():\n\u001b[1;32m---> 39\u001b[0m     t \u001b[38;5;241m=\u001b[39m \u001b[43mturtle\u001b[49m\u001b[38;5;241;43m.\u001b[39;49m\u001b[43mTurtle\u001b[49m\u001b[43m(\u001b[49m\u001b[43m)\u001b[49m\n\u001b[0;32m     40\u001b[0m     draw_square(t)\n\u001b[0;32m     41\u001b[0m     draw_star(t)\n",
      "File \u001b[1;32m~\\AppData\\Local\\Programs\\Python\\Python312\\Lib\\turtle.py:3876\u001b[0m, in \u001b[0;36mTurtle.__init__\u001b[1;34m(self, shape, undobuffersize, visible)\u001b[0m\n\u001b[0;32m   3874\u001b[0m \u001b[38;5;28;01mif\u001b[39;00m Turtle\u001b[38;5;241m.\u001b[39m_screen \u001b[38;5;129;01mis\u001b[39;00m \u001b[38;5;28;01mNone\u001b[39;00m:\n\u001b[0;32m   3875\u001b[0m     Turtle\u001b[38;5;241m.\u001b[39m_screen \u001b[38;5;241m=\u001b[39m Screen()\n\u001b[1;32m-> 3876\u001b[0m \u001b[43mRawTurtle\u001b[49m\u001b[38;5;241;43m.\u001b[39;49m\u001b[38;5;21;43m__init__\u001b[39;49m\u001b[43m(\u001b[49m\u001b[38;5;28;43mself\u001b[39;49m\u001b[43m,\u001b[49m\u001b[43m \u001b[49m\u001b[43mTurtle\u001b[49m\u001b[38;5;241;43m.\u001b[39;49m\u001b[43m_screen\u001b[49m\u001b[43m,\u001b[49m\n\u001b[0;32m   3877\u001b[0m \u001b[43m                   \u001b[49m\u001b[43mshape\u001b[49m\u001b[38;5;241;43m=\u001b[39;49m\u001b[43mshape\u001b[49m\u001b[43m,\u001b[49m\n\u001b[0;32m   3878\u001b[0m \u001b[43m                   \u001b[49m\u001b[43mundobuffersize\u001b[49m\u001b[38;5;241;43m=\u001b[39;49m\u001b[43mundobuffersize\u001b[49m\u001b[43m,\u001b[49m\n\u001b[0;32m   3879\u001b[0m \u001b[43m                   \u001b[49m\u001b[43mvisible\u001b[49m\u001b[38;5;241;43m=\u001b[39;49m\u001b[43mvisible\u001b[49m\u001b[43m)\u001b[49m\n",
      "File \u001b[1;32m~\\AppData\\Local\\Programs\\Python\\Python312\\Lib\\turtle.py:2565\u001b[0m, in \u001b[0;36mRawTurtle.__init__\u001b[1;34m(self, canvas, shape, undobuffersize, visible)\u001b[0m\n\u001b[0;32m   2563\u001b[0m \u001b[38;5;28mself\u001b[39m\u001b[38;5;241m.\u001b[39m_undobuffersize \u001b[38;5;241m=\u001b[39m undobuffersize\n\u001b[0;32m   2564\u001b[0m \u001b[38;5;28mself\u001b[39m\u001b[38;5;241m.\u001b[39mundobuffer \u001b[38;5;241m=\u001b[39m Tbuffer(undobuffersize)\n\u001b[1;32m-> 2565\u001b[0m \u001b[38;5;28;43mself\u001b[39;49m\u001b[38;5;241;43m.\u001b[39;49m\u001b[43m_update\u001b[49m\u001b[43m(\u001b[49m\u001b[43m)\u001b[49m\n",
      "File \u001b[1;32m~\\AppData\\Local\\Programs\\Python\\Python312\\Lib\\turtle.py:2668\u001b[0m, in \u001b[0;36mRawTurtle._update\u001b[1;34m(self)\u001b[0m\n\u001b[0;32m   2666\u001b[0m     \u001b[38;5;28;01mreturn\u001b[39;00m\n\u001b[0;32m   2667\u001b[0m \u001b[38;5;28;01melif\u001b[39;00m screen\u001b[38;5;241m.\u001b[39m_tracing \u001b[38;5;241m==\u001b[39m \u001b[38;5;241m1\u001b[39m:\n\u001b[1;32m-> 2668\u001b[0m     \u001b[38;5;28;43mself\u001b[39;49m\u001b[38;5;241;43m.\u001b[39;49m\u001b[43m_update_data\u001b[49m\u001b[43m(\u001b[49m\u001b[43m)\u001b[49m\n\u001b[0;32m   2669\u001b[0m     \u001b[38;5;28mself\u001b[39m\u001b[38;5;241m.\u001b[39m_drawturtle()\n\u001b[0;32m   2670\u001b[0m     screen\u001b[38;5;241m.\u001b[39m_update()                  \u001b[38;5;66;03m# TurtleScreenBase\u001b[39;00m\n",
      "File \u001b[1;32m~\\AppData\\Local\\Programs\\Python\\Python312\\Lib\\turtle.py:2654\u001b[0m, in \u001b[0;36mRawTurtle._update_data\u001b[1;34m(self)\u001b[0m\n\u001b[0;32m   2653\u001b[0m \u001b[38;5;28;01mdef\u001b[39;00m \u001b[38;5;21m_update_data\u001b[39m(\u001b[38;5;28mself\u001b[39m):\n\u001b[1;32m-> 2654\u001b[0m     \u001b[38;5;28;43mself\u001b[39;49m\u001b[38;5;241;43m.\u001b[39;49m\u001b[43mscreen\u001b[49m\u001b[38;5;241;43m.\u001b[39;49m\u001b[43m_incrementudc\u001b[49m\u001b[43m(\u001b[49m\u001b[43m)\u001b[49m\n\u001b[0;32m   2655\u001b[0m     \u001b[38;5;28;01mif\u001b[39;00m \u001b[38;5;28mself\u001b[39m\u001b[38;5;241m.\u001b[39mscreen\u001b[38;5;241m.\u001b[39m_updatecounter \u001b[38;5;241m!=\u001b[39m \u001b[38;5;241m0\u001b[39m:\n\u001b[0;32m   2656\u001b[0m         \u001b[38;5;28;01mreturn\u001b[39;00m\n",
      "File \u001b[1;32m~\\AppData\\Local\\Programs\\Python\\Python312\\Lib\\turtle.py:1284\u001b[0m, in \u001b[0;36mTurtleScreen._incrementudc\u001b[1;34m(self)\u001b[0m\n\u001b[0;32m   1282\u001b[0m \u001b[38;5;28;01mif\u001b[39;00m \u001b[38;5;129;01mnot\u001b[39;00m TurtleScreen\u001b[38;5;241m.\u001b[39m_RUNNING:\n\u001b[0;32m   1283\u001b[0m     TurtleScreen\u001b[38;5;241m.\u001b[39m_RUNNING \u001b[38;5;241m=\u001b[39m \u001b[38;5;28;01mTrue\u001b[39;00m\n\u001b[1;32m-> 1284\u001b[0m     \u001b[38;5;28;01mraise\u001b[39;00m Terminator\n\u001b[0;32m   1285\u001b[0m \u001b[38;5;28;01mif\u001b[39;00m \u001b[38;5;28mself\u001b[39m\u001b[38;5;241m.\u001b[39m_tracing \u001b[38;5;241m>\u001b[39m \u001b[38;5;241m0\u001b[39m:\n\u001b[0;32m   1286\u001b[0m     \u001b[38;5;28mself\u001b[39m\u001b[38;5;241m.\u001b[39m_updatecounter \u001b[38;5;241m+\u001b[39m\u001b[38;5;241m=\u001b[39m \u001b[38;5;241m1\u001b[39m\n",
      "\u001b[1;31mTerminator\u001b[0m: "
     ]
    }
   ],
   "source": [
    "import turtle  # allows us to use the turtle library\n",
    "\n",
    "wn = turtle.Screen()  # creates a graphics window\n",
    "\n",
    "def draw_square(t):\n",
    "    for i in range(4):\n",
    "        t.forward(100)\n",
    "        t.right(90)\n",
    "\n",
    "def draw_star(t):\n",
    "    for i in range(5):\n",
    "        t.forward(100)\n",
    "        t.right(144)\n",
    "\n",
    "def draw_hexagon(t):\n",
    "    for i in range(6):\n",
    "        t.forward(100)\n",
    "        t.right(60)\n",
    "\n",
    "def draw_circle(t):\n",
    "    t.circle(60)\n",
    "\n",
    "def draw_triangle(t):\n",
    "    for i in range(3):\n",
    "        t.forward(100)\n",
    "        t.right(120)\n",
    "\n",
    "def draw_nonagon(t):\n",
    "    for i in range(9):\n",
    "        t.forward(100)\n",
    "        t.right(40)\n",
    "\n",
    "def draw_decagon(t):\n",
    "    for i in range(10):\n",
    "        t.forward(100)\n",
    "        t.right(36)\n",
    "\n",
    "def sketch():\n",
    "    t = turtle.Turtle()\n",
    "    draw_square(t)\n",
    "    draw_star(t)\n",
    "    draw_hexagon(t)\n",
    "    draw_circle(t)\n",
    "    draw_triangle(t)\n",
    "    draw_nonagon(t)\n",
    "    draw_decagon(t)\n",
    "\n",
    "    wn.exitonclick()\n",
    "\n",
    "if __name__ == \"__main__\":\n",
    "    sketch()"
   ]
  },
  {
   "cell_type": "code",
   "execution_count": null,
   "id": "6c2012c7-7804-4c4c-865f-7b41348af5f1",
   "metadata": {},
   "outputs": [],
   "source": []
  }
 ],
 "metadata": {
  "kernelspec": {
   "display_name": "Python 3 (ipykernel)",
   "language": "python",
   "name": "python3"
  },
  "language_info": {
   "codemirror_mode": {
    "name": "ipython",
    "version": 3
   },
   "file_extension": ".py",
   "mimetype": "text/x-python",
   "name": "python",
   "nbconvert_exporter": "python",
   "pygments_lexer": "ipython3",
   "version": "3.12.2"
  }
 },
 "nbformat": 4,
 "nbformat_minor": 5
}
