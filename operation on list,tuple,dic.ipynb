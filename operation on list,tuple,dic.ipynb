{
 "cells": [
  {
   "cell_type": "code",
   "execution_count": 67,
   "id": "1620b6e5-7233-4c87-b6e9-1e596420c3bc",
   "metadata": {},
   "outputs": [
    {
     "name": "stdout",
     "output_type": "stream",
     "text": [
      "['payal', 'AU23B1016', 'EN2004', 'Assignment2', 22, 23, 24]\n",
      "7\n",
      "<class 'list'>\n"
     ]
    }
   ],
   "source": [
    "#practice list\n",
    "a = ['payal','AU23B1016','EN2004','Assignment2',22,23,24]\n",
    "print(a)\n",
    "\n",
    "#lenght of class\n",
    "print(len(a))\n",
    "\n",
    "#type of class\n",
    "print(type(a))"
   ]
  },
  {
   "cell_type": "code",
   "execution_count": 76,
   "id": "7589d401-5053-4b16-a319-31f74fbe8a55",
   "metadata": {},
   "outputs": [
    {
     "name": "stdout",
     "output_type": "stream",
     "text": [
      "payal\n",
      "AU23B1016\n",
      "EN2004\n",
      "Assignment2\n",
      "22\n",
      "['payal', 'AU23B1016', 'EN2004', 'Assignment2', 22, 23, 24]\n",
      "['AU23B1016', 'EN2004', 'Assignment2']\n",
      "['AU23B1016', 'EN2004']\n",
      "['AU23B1016', 'EN2004', 'Assignment2', 22, 23, 24]\n",
      "['payal', 'AU23B1016']\n",
      "['AU23B1016', 'Assignment2', 23]\n"
     ]
    }
   ],
   "source": [
    "#Indexing\n",
    "a = ['payal','AU23B1016','EN2004','Assignment2',22,23,24]\n",
    "print(a[0])\n",
    "print(a[1])\n",
    "print(a[2])\n",
    "print(a[3])\n",
    "print(a[-3])\n",
    "#slicing in list\n",
    "print(a[:])       #here python will automatical take[0:len(a)]\n",
    "print(a[1:-3])\n",
    "print(a[1:3])\n",
    "print(a[1:])      #here python will automatical take[1:len(a)]\n",
    "print(a[:2])      #similarly [len(a):2]\n",
    "print(a[1:6:2])   #jump index(printing from 1 to 6 with gap of 2) \n",
    "\n"
   ]
  },
  {
   "cell_type": "code",
   "execution_count": 72,
   "id": "ac1fd2b5-fe45-4e47-bf3e-6b23bdd4dc7a",
   "metadata": {},
   "outputs": [
    {
     "name": "stdout",
     "output_type": "stream",
     "text": [
      "exist\n",
      "no\n",
      "yes\n"
     ]
    }
   ],
   "source": [
    "#to find the existence of element in the list\n",
    "if \"Assignment2\" in a:\n",
    "    print(\"exist\")\n",
    "else:\n",
    "    print(\"not exists\")\n",
    "\n",
    "#To find that a part of element belongs to element or not\n",
    "if \"Agn\" in \"Assignment2\":\n",
    "    print(\"yes\")   #here the part of element is not written in proper order\n",
    "else:\n",
    "    print(\"no\")\n",
    "\n",
    "if \"gnment\" in \"Assignment2\":\n",
    "    print(\"yes\")   #here the part of element is written in proper order that is why this has given yes\n",
    "else:\n",
    "    print(\"no\")"
   ]
  },
  {
   "cell_type": "code",
   "execution_count": 75,
   "id": "bf1c2be3-d0bc-4b6b-bb55-2a874e7f6c16",
   "metadata": {},
   "outputs": [
    {
     "name": "stdout",
     "output_type": "stream",
     "text": [
      "[0, 1, 2, 3, 4]\n",
      "[0, 1, 4, 9, 16]\n",
      "[0, 4, 16]\n",
      "[1, 4, 9, 16, 25]\n"
     ]
    }
   ],
   "source": [
    "#List Comprehension\n",
    "lst=[i for i in range(5)]\n",
    "print(lst)\n",
    "\n",
    "lst=[i*i for i in range(5)]  #printing the square of numbers from 0 to 5\n",
    "print(lst)\n",
    "\n",
    "lst=[i*i for i in range(5) if(i%2==0)]  #printing the square of even numbers from 0 to 5\n",
    "print(lst)\n",
    "\n",
    "numbers = [1, 2, 3, 4, 5]    #Syntax: newList = [ expression(element) for element in oldList if condition ] \n",
    "squared = [x ** 2 for x in numbers] \n",
    "print(squared)"
   ]
  },
  {
   "cell_type": "code",
   "execution_count": 71,
   "id": "eadc0fb9-7bc2-45d5-8939-07cb9503bd18",
   "metadata": {},
   "outputs": [
    {
     "name": "stdout",
     "output_type": "stream",
     "text": [
      "['payal', 'AU23B1016', 'EN2004', 'Assignment2', 'ITC']\n"
     ]
    }
   ],
   "source": [
    "#list methods\n",
    "#append method\n",
    "a = ['payal','AU23B1016','EN2004','Assignment2']\n",
    "a.append('ITC') #to append or add value at the last \n",
    "print(a)\n",
    "\n"
   ]
  },
  {
   "cell_type": "code",
   "execution_count": 44,
   "id": "84d74aec-6a4c-4886-8ccf-fea77b9c122a",
   "metadata": {},
   "outputs": [
    {
     "name": "stdout",
     "output_type": "stream",
     "text": [
      "['AU23B1016', 'Assignment2', 'EN2004', 'payal']\n",
      "['payal', 'EN2004', 'Assignment2', 'AU23B1016']\n"
     ]
    }
   ],
   "source": [
    "#sort method\n",
    "a = ['payal','AU23B1016','EN2004','Assignment2']\n",
    "a.sort()  #sorting list in ascending order\n",
    "print(a)\n",
    "a.sort(reverse=True)  #sorting list in descending order\n",
    "print(a)"
   ]
  },
  {
   "cell_type": "code",
   "execution_count": 45,
   "id": "b49feb04-1ad6-4612-8d03-67f6b7e6a8d4",
   "metadata": {},
   "outputs": [
    {
     "name": "stdout",
     "output_type": "stream",
     "text": [
      "['Assignment2', 'EN2004', 'AU23B1016', 'payal']\n"
     ]
    }
   ],
   "source": [
    "#reverse method\n",
    "a = ['payal','AU23B1016','EN2004','Assignment2']\n",
    "a.reverse() #to reverse the list\n",
    "print(a)"
   ]
  },
  {
   "cell_type": "code",
   "execution_count": 47,
   "id": "1b38fa35-5ee3-44ea-b9e9-4bd73096fb46",
   "metadata": {},
   "outputs": [
    {
     "name": "stdout",
     "output_type": "stream",
     "text": [
      "0\n"
     ]
    }
   ],
   "source": [
    "#index method\n",
    "a = ['payal','AU23B1016','EN2004','Assignment2']\n",
    "print(a.index(\"payal\")) # to find index of particular element"
   ]
  },
  {
   "cell_type": "code",
   "execution_count": 48,
   "id": "3d1522e6-e7e9-481c-98f2-1bb75e5806aa",
   "metadata": {},
   "outputs": [
    {
     "name": "stdout",
     "output_type": "stream",
     "text": [
      "2\n"
     ]
    }
   ],
   "source": [
    "#count method\n",
    "a = ['payal','AU23B1016','payal','EN2004','Assignment2']\n",
    "print(a.count(\"payal\")) #to find the number of occurences of an element in the list"
   ]
  },
  {
   "cell_type": "code",
   "execution_count": 51,
   "id": "f42f6ffb-27ca-4e3c-bea1-a46fc9347287",
   "metadata": {},
   "outputs": [
    {
     "name": "stdout",
     "output_type": "stream",
     "text": [
      "['payal', 'AU23B1016', 'EN2004', 'Assignment2']\n"
     ]
    }
   ],
   "source": [
    "#copy method\n",
    "a = ['payal','AU23B1016','EN2004','Assignment2']\n",
    "b=a.copy() #to make a copy of a existing list\n",
    "print(b)"
   ]
  },
  {
   "cell_type": "code",
   "execution_count": 53,
   "id": "af5e8e0a-d256-4cc5-a4df-6977a9bbc0a2",
   "metadata": {},
   "outputs": [
    {
     "name": "stdout",
     "output_type": "stream",
     "text": [
      "['payal', 'AU23B1016', 'good', 'EN2004', 'Assignment2']\n"
     ]
    }
   ],
   "source": [
    "#insert method\n",
    "a = ['payal','AU23B1016','EN2004','Assignment2']\n",
    "a.insert(2,'good')  #to insert a element on particular index\n",
    "print(a)\n"
   ]
  },
  {
   "cell_type": "code",
   "execution_count": 54,
   "id": "ffc7a609-ce7b-47a5-9d75-0c965394036d",
   "metadata": {},
   "outputs": [
    {
     "name": "stdout",
     "output_type": "stream",
     "text": [
      "['payal', 'AU23B1016', 'EN2004', 'Assignment2', 'Welcome', 'to', 'console', 1, 2]\n"
     ]
    }
   ],
   "source": [
    "#extend method\n",
    "a = ['payal','AU23B1016','EN2004','Assignment2']\n",
    "b = ['Welcome','to','console',1,2]\n",
    "a.extend(b) # used to merge lists\n",
    "print(a)"
   ]
  },
  {
   "cell_type": "code",
   "execution_count": 55,
   "id": "0846ef0b-6a0f-4488-9a12-bffac5a2109c",
   "metadata": {},
   "outputs": [
    {
     "name": "stdout",
     "output_type": "stream",
     "text": [
      "['payal', 'AU23B1016', 'EN2004', 'Assignment2', 'Welcome', 'to', 'console', 1, 2]\n"
     ]
    }
   ],
   "source": [
    "#concatenate lists\n",
    "a = ['payal','AU23B1016','EN2004','Assignment2']\n",
    "b = ['Welcome','to','console',1,2]\n",
    "c=a+b\n",
    "print(c)"
   ]
  },
  {
   "cell_type": "code",
   "execution_count": 56,
   "id": "4c29d6e4-230f-4a6b-b399-ae57bebe3178",
   "metadata": {},
   "outputs": [
    {
     "name": "stdin",
     "output_type": "stream",
     "text": [
      " 3\n",
      " 3;4;5\n"
     ]
    },
    {
     "name": "stdout",
     "output_type": "stream",
     "text": [
      "['3', '4', '5']\n"
     ]
    }
   ],
   "source": [
    "#input elements to list\n",
    "M = int(input())\n",
    "s = input()\n",
    "input_elements = ''\n",
    "Element = []\n",
    "for char in s:\n",
    "    if char == ';':\n",
    "        Element.append(input_elements)\n",
    "        input_elements = ''\n",
    "    else:\n",
    "        input_elements += char\n",
    "Element.append(input_elements)\n",
    "print(Element)"
   ]
  },
  {
   "cell_type": "code",
   "execution_count": 13,
   "id": "bd4e2fea-0619-4217-8c44-a446fe5906a4",
   "metadata": {},
   "outputs": [
    {
     "data": {
      "text/plain": [
       "(2, 3, 4, 5, 'GM')"
      ]
     },
     "execution_count": 13,
     "metadata": {},
     "output_type": "execute_result"
    }
   ],
   "source": [
    "#tuple practice\n",
    "\n",
    "a=(2,3,4,5,\"GM\")\n",
    "a\n",
    "\n"
   ]
  },
  {
   "cell_type": "code",
   "execution_count": 14,
   "id": "a191e525-e8f7-4dfb-ba2d-121d882360cf",
   "metadata": {},
   "outputs": [
    {
     "data": {
      "text/plain": [
       "tuple"
      ]
     },
     "execution_count": 14,
     "metadata": {},
     "output_type": "execute_result"
    }
   ],
   "source": [
    "type(a)"
   ]
  },
  {
   "cell_type": "code",
   "execution_count": 15,
   "id": "c1360f4a-445f-4c38-ace0-a1e7dbc395eb",
   "metadata": {},
   "outputs": [
    {
     "data": {
      "text/plain": [
       "((2, 3, 4, 5, 'GM'), (5, 6, 7, 8))"
      ]
     },
     "execution_count": 15,
     "metadata": {},
     "output_type": "execute_result"
    }
   ],
   "source": [
    "# Tuples may be nested:\n",
    "b=a,(5,6,7,8)\n",
    "b"
   ]
  },
  {
   "cell_type": "code",
   "execution_count": 18,
   "id": "b59c58df-ce60-4b7a-8e65-44e55defb191",
   "metadata": {},
   "outputs": [
    {
     "name": "stdout",
     "output_type": "stream",
     "text": [
      "2\n",
      "3\n",
      "(5, 6, 7, 8)\n"
     ]
    }
   ],
   "source": [
    "print(a[0])\n",
    "print(a[1])\n",
    "print(b[1])"
   ]
  },
  {
   "cell_type": "code",
   "execution_count": 19,
   "id": "4415ec3a-1da8-41d2-a67c-67c7187e6ba6",
   "metadata": {},
   "outputs": [
    {
     "name": "stdout",
     "output_type": "stream",
     "text": [
      "5\n",
      "2\n",
      "yes\n"
     ]
    }
   ],
   "source": [
    "#length of tuple\n",
    "print(len(a))\n",
    "print(len(b))\n",
    "\n",
    "#To check the presence of a element in tuple\n",
    "if 3 in a:\n",
    "    print(\"yes\")\n",
    "else:\n",
    "    print(\"No\")"
   ]
  },
  {
   "cell_type": "code",
   "execution_count": 22,
   "id": "86b0f100-08de-416d-9ff1-ef9394556d4d",
   "metadata": {},
   "outputs": [
    {
     "name": "stdout",
     "output_type": "stream",
     "text": [
      "(3, 4, 5)\n",
      "(2, 3, 4, 5, 'GM')\n"
     ]
    }
   ],
   "source": [
    "#Slicing can be done in tuple because a new tuple is created after slicing changes doesn't happens in the existing tuple\n",
    "c=a[1:4]\n",
    "print(c)\n",
    "d=a[:]\n",
    "print(d)"
   ]
  },
  {
   "cell_type": "code",
   "execution_count": 23,
   "id": "3f694f9b-4caf-4d9f-93d0-2ebaa02f431b",
   "metadata": {},
   "outputs": [
    {
     "name": "stdout",
     "output_type": "stream",
     "text": [
      "(2, 3, 4, 5, 'GM', (2, 3, 4, 5, 'GM'), (5, 6, 7, 8))\n"
     ]
    }
   ],
   "source": [
    "#Concatinating tuples because a new tuple will be form there will be no change in existing tuples\n",
    "e=a+b\n",
    "print(e)\n"
   ]
  },
  {
   "cell_type": "code",
   "execution_count": 25,
   "id": "5528723d-4956-4a39-b5bb-f425d43a599b",
   "metadata": {},
   "outputs": [
    {
     "name": "stdout",
     "output_type": "stream",
     "text": [
      "3\n"
     ]
    }
   ],
   "source": [
    "#count method\n",
    "a=(1,2,3,2,4,5,2,3,6)\n",
    "b=a.count(2) #to find the number of occurences of a element in a tuple\n",
    "print(b)\n"
   ]
  },
  {
   "cell_type": "code",
   "execution_count": 27,
   "id": "0857368c-8326-47ef-82e9-b9d0b2958daa",
   "metadata": {},
   "outputs": [
    {
     "name": "stdout",
     "output_type": "stream",
     "text": [
      "2\n",
      "5\n",
      "7\n"
     ]
    }
   ],
   "source": [
    "#to find index of a element\n",
    "b=a.index(3) #here the first index among the occurences in the list will be printed\n",
    "print(b)\n",
    "c=a.index(5)\n",
    "print(c)\n",
    "e=a.index(3,3,9) #here firstly the slicing will be done and then the first existence of entered element after slicing will be printed\n",
    "print(e)"
   ]
  },
  {
   "cell_type": "code",
   "execution_count": 39,
   "id": "c913f7d6-5bcc-47b6-9494-6b5ec591180b",
   "metadata": {},
   "outputs": [
    {
     "name": "stdout",
     "output_type": "stream",
     "text": [
      "{'name': 'payal', 'sername': 'sharma', 'EnrollementID': 'AU23B1016'}\n",
      "payal\n",
      "AU23B1016\n",
      "dict_keys(['name', 'sername', 'EnrollementID'])\n",
      "dict_values(['payal', 'sharma', 'AU23B1016'])\n"
     ]
    }
   ],
   "source": [
    "#dictionaries practice\n",
    "dic = {\"name\":\"payal\",\"sername\":\"sharma\",\"EnrollementID\":\"AU23B1016\"}\n",
    "print(dic)\n",
    "print(dic[\"name\"]) #It will throw error if the key will not exist\n",
    "print(dic.get(\"EnrollementID\"))  #It will print none if the key doesnot exists\n"
   ]
  },
  {
   "cell_type": "code",
   "execution_count": 40,
   "id": "67970eec-44be-4f4b-b971-565e76f5fafc",
   "metadata": {},
   "outputs": [
    {
     "name": "stdout",
     "output_type": "stream",
     "text": [
      "dict_keys(['name', 'sername', 'EnrollementID'])\n",
      "dict_values(['payal', 'sharma', 'AU23B1016'])\n",
      "payal\n",
      "sharma\n",
      "AU23B1016\n"
     ]
    }
   ],
   "source": [
    "#to print the keys in dictionary\n",
    "print(dic.keys())\n",
    "\n",
    "#to print the values in dictionary\n",
    "print(dic.values())\n",
    "\n",
    "#we can also get the keys through iteration\n",
    "for key in dic.keys():\n",
    "    print(dic[key])"
   ]
  },
  {
   "cell_type": "code",
   "execution_count": 41,
   "id": "001bc15d-7490-46ed-8e6c-e6317812a5b0",
   "metadata": {},
   "outputs": [
    {
     "name": "stdout",
     "output_type": "stream",
     "text": [
      "dict_items([('name', 'payal'), ('sername', 'sharma'), ('EnrollementID', 'AU23B1016')])\n"
     ]
    }
   ],
   "source": [
    "#acessing key value pairs using item syntax\n",
    "print(dic.items())"
   ]
  },
  {
   "cell_type": "code",
   "execution_count": 43,
   "id": "bc6badef-14cd-474f-8788-884a20c56653",
   "metadata": {},
   "outputs": [
    {
     "name": "stdout",
     "output_type": "stream",
     "text": [
      "{'name': 'payal', 'sername': 'sharma', 'EnrollementID': 'AU23B1016', 'course': 'ITD', 'Ass no.': 2}\n"
     ]
    }
   ],
   "source": [
    "#dic methods\n",
    "a = {\"name\":\"payal\",\"sername\":\"sharma\",\"EnrollementID\":\"AU23B1016\"}\n",
    "b = {\"course\":\"ITD\",\"Ass no.\":2}\n",
    "a.update(b)\n",
    "print(a)"
   ]
  },
  {
   "cell_type": "code",
   "execution_count": 44,
   "id": "06119925-7f50-4521-845c-8a252e7d2a27",
   "metadata": {},
   "outputs": [
    {
     "name": "stdout",
     "output_type": "stream",
     "text": [
      "{}\n"
     ]
    }
   ],
   "source": [
    "#clear method\n",
    "a.clear()\n",
    "print(a)"
   ]
  },
  {
   "cell_type": "code",
   "execution_count": 51,
   "id": "1d7ded3c-28d5-4618-9983-0152bca02f62",
   "metadata": {},
   "outputs": [
    {
     "name": "stdout",
     "output_type": "stream",
     "text": [
      "{'sername': 'sharma', 'EnrollementID': 'AU23B1016'}\n"
     ]
    }
   ],
   "source": [
    "#pop method\n",
    "a = {\"name\": \"payal\", \"sername\": \"sharma\", \"EnrollementID\": \"AU23B1016\"}\n",
    "a.pop(\"name\")\n",
    "print(a)"
   ]
  },
  {
   "cell_type": "code",
   "execution_count": 55,
   "id": "8d5e6f1a-7597-491b-9c46-c7294d6290b1",
   "metadata": {},
   "outputs": [
    {
     "name": "stdout",
     "output_type": "stream",
     "text": [
      "{'name': 'payal', 'sername': 'sharma'}\n"
     ]
    }
   ],
   "source": [
    "#popitem method\n",
    "a = {\"name\": \"payal\", \"sername\": \"sharma\", \"EnrollementID\": \"AU23B1016\"}\n",
    "a.popitem()  #it will automatically remove the last key value\n",
    "print(a)"
   ]
  },
  {
   "cell_type": "code",
   "execution_count": 64,
   "id": "95adf896-ed3f-4936-b9cd-d70993e71e20",
   "metadata": {},
   "outputs": [
    {
     "name": "stdout",
     "output_type": "stream",
     "text": [
      "{'sername': 'sharma', 'EnrollementID': 'AU23B1016'}\n"
     ]
    }
   ],
   "source": [
    "#del method\n",
    "a = {\"name\": \"payal\", \"sername\": \"sharma\", \"EnrollementID\": \"AU23B1016\"}\n",
    "del a[\"name\"]\n",
    "print(a)"
   ]
  },
  {
   "cell_type": "code",
   "execution_count": null,
   "id": "1f21d251-40be-4905-b198-2339d32858c6",
   "metadata": {},
   "outputs": [],
   "source": [
    "#unpack values\n",
    "dic={'name': 'payal', 'sername': 'sharma'}\n",
    "for i1,i2 in dic.items():\n",
    "    print(i2)"
   ]
  },
  {
   "cell_type": "code",
   "execution_count": 5,
   "id": "dd49abcb-4168-4d7f-b100-d26fe133eb58",
   "metadata": {},
   "outputs": [
    {
     "data": {
      "text/plain": [
       "(1, 2, 3, 4)"
      ]
     },
     "execution_count": 5,
     "metadata": {},
     "output_type": "execute_result"
    }
   ],
   "source": [
    "#list to tuple conversion\n",
    "list1=[1,2,3,4]\n",
    "tuple(list1)"
   ]
  },
  {
   "cell_type": "code",
   "execution_count": 83,
   "id": "33f0b7b5-7419-4832-9263-b520db7df40b",
   "metadata": {},
   "outputs": [
    {
     "data": {
      "text/plain": [
       "[1, 2, 3, 4]"
      ]
     },
     "execution_count": 83,
     "metadata": {},
     "output_type": "execute_result"
    }
   ],
   "source": [
    "#tuple to list conversion\n",
    "tuple=(1,2,3,4)\n",
    "list(tuple)"
   ]
  },
  {
   "cell_type": "code",
   "execution_count": 81,
   "id": "6216e186-0966-4b2d-a68a-39777826a772",
   "metadata": {},
   "outputs": [
    {
     "data": {
      "text/plain": [
       "{'name': 'payal', 'sername': 'sharma', 'EnrollementID': 'AU23B1016'}"
      ]
     },
     "execution_count": 81,
     "metadata": {},
     "output_type": "execute_result"
    }
   ],
   "source": [
    "#list to dictionary conversion\n",
    "list1=[(\"name\",\"payal\"),(\"sername\",\"sharma\"),(\"EnrollementID\",\"AU23B1016\")]\n",
    "dict(list1)\n"
   ]
  },
  {
   "cell_type": "code",
   "execution_count": 101,
   "id": "2fc3e8af-720b-446e-b567-7a725afb15db",
   "metadata": {},
   "outputs": [
    {
     "data": {
      "text/plain": [
       "['name', 'sername', 'EnrollementID']"
      ]
     },
     "execution_count": 101,
     "metadata": {},
     "output_type": "execute_result"
    }
   ],
   "source": [
    "#dictionary to list conversion\n",
    "dic={'name': 'payal', 'sername': 'sharma', 'EnrollementID': 'AU23B1016'}\n",
    "list(dic) "
   ]
  },
  {
   "cell_type": "code",
   "execution_count": 102,
   "id": "9cfbac07-8525-44a2-9d87-fb79c540ef6d",
   "metadata": {},
   "outputs": [
    {
     "name": "stdout",
     "output_type": "stream",
     "text": [
      "[('name', 'payal'), ('sername', 'sharma'), ('EnrollementID', 'AU23B1016')]\n"
     ]
    }
   ],
   "source": [
    "result = [(key, value) for key, value in dic.items()]\n",
    "print(result)"
   ]
  },
  {
   "cell_type": "code",
   "execution_count": 100,
   "id": "9815ce07-a15b-4f85-a87b-067cbb44ef57",
   "metadata": {},
   "outputs": [
    {
     "name": "stdout",
     "output_type": "stream",
     "text": [
      "['name', 'payal']\n",
      "['sername', 'payal']\n",
      "['EnrollementID', 'payal']\n"
     ]
    }
   ],
   "source": [
    "dic={'name': 'payal', 'sername': 'sharma', 'EnrollementID': 'AU23B1016'}\n",
    "for  key, value in dic.items():\n",
    "    print([key,values])\n",
    " "
   ]
  },
  {
   "cell_type": "code",
   "execution_count": 103,
   "id": "739438e0-53c5-4586-95b4-5a20a1f92d6e",
   "metadata": {},
   "outputs": [
    {
     "data": {
      "text/plain": [
       "{1: 'name', 2: 'sername', 3: 'EnrollementID'}"
      ]
     },
     "execution_count": 103,
     "metadata": {},
     "output_type": "execute_result"
    }
   ],
   "source": [
    "#tuple to dictionary\n",
    "tuple=((1,\"name\"),(2,\"sername\"),(3,\"EnrollementID\"))\n",
    "dict(tuple)"
   ]
  },
  {
   "cell_type": "code",
   "execution_count": 6,
   "id": "841dd5c0-67e5-4e38-b22e-43a601cce76d",
   "metadata": {},
   "outputs": [
    {
     "name": "stdout",
     "output_type": "stream",
     "text": [
      "('name', 'sername', 'EnrollementID')\n"
     ]
    }
   ],
   "source": [
    "#dictionary to tuple\n",
    "dic={'name': 'payal', 'sername': 'sharma', 'EnrollementID': 'AU23B1016'}\n",
    "a=tuple(dic)\n",
    "print(a)"
   ]
  },
  {
   "cell_type": "code",
   "execution_count": 4,
   "id": "1896f804-6ba2-43b6-961c-2a42a45c2a07",
   "metadata": {},
   "outputs": [
    {
     "name": "stdin",
     "output_type": "stream",
     "text": [
      "Enter either grocery or cosmetics:  grocery\n"
     ]
    },
    {
     "name": "stdout",
     "output_type": "stream",
     "text": [
      "Items in grocery :\n",
      "dal\n",
      "rice\n",
      "papad\n",
      "wheat\n"
     ]
    }
   ],
   "source": [
    "#A problem solution using the list,tuple and dictionary\n",
    "list1 = ['grocery', 'cosmetics']\n",
    "list2 = [['dal', 'rice', 'papad', 'wheat'], ['lipstick', 'eyeliner', 'foundation']]\n",
    "# Convert the lists into a list of tuples\n",
    "conv = list(zip(list1, list2))\n",
    "\n",
    "# Convert the list of tuples into a dictionary\n",
    "category_dict = dict(conv)\n",
    "n = input(\"Enter either grocery or cosmetics: \")\n",
    "if n in category_dict:\n",
    "    print(\"Items in\",n,\":\")\n",
    "    for item in category_dict[n]:\n",
    "        print(item)\n",
    "else:\n",
    "    print(\"Invalid category entered.\")\n",
    "\n"
   ]
  },
  {
   "cell_type": "code",
   "execution_count": null,
   "id": "b3b91fe6-e0f5-470c-b4d1-55f766589a73",
   "metadata": {},
   "outputs": [],
   "source": []
  }
 ],
 "metadata": {
  "kernelspec": {
   "display_name": "Python 3 (ipykernel)",
   "language": "python",
   "name": "python3"
  },
  "language_info": {
   "codemirror_mode": {
    "name": "ipython",
    "version": 3
   },
   "file_extension": ".py",
   "mimetype": "text/x-python",
   "name": "python",
   "nbconvert_exporter": "python",
   "pygments_lexer": "ipython3",
   "version": "3.12.2"
  }
 },
 "nbformat": 4,
 "nbformat_minor": 5
}
