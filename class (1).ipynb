{
 "cells": [
  {
   "cell_type": "code",
   "execution_count": 29,
   "id": "7e0e8ea2-0464-47ff-97b2-61592fc62c76",
   "metadata": {},
   "outputs": [
    {
     "name": "stdout",
     "output_type": "stream",
     "text": [
      "\n",
      "[1, 2, 3, 4]\n"
     ]
    },
    {
     "data": {
      "text/plain": [
       "4"
      ]
     },
     "execution_count": 29,
     "metadata": {},
     "output_type": "execute_result"
    }
   ],
   "source": [
    "class copy():\n",
    "    def __init__ (self):\n",
    "        self._list=[]\n",
    "    def copylist(self,other):\n",
    "        self._list=self._list+other\n",
    "        return self._list\n",
    "l = copy()\n",
    "l.copylist([1,2,3,4])\n",
    "print()\n",
    "type(l)\n",
    "print(l._list)\n",
    "len(l._list)"
   ]
  },
  {
   "cell_type": "code",
   "execution_count": 28,
   "id": "74fbb7b4-d513-4fc5-a18a-2496fc7cd3d3",
   "metadata": {},
   "outputs": [
    {
     "name": "stdout",
     "output_type": "stream",
     "text": [
      "[1, 2, 3, 4]\n",
      "4\n"
     ]
    }
   ],
   "source": [
    "class copy():\n",
    "    def __init__ (self):\n",
    "        self._list=[]\n",
    "    def copylist(self,other):\n",
    "        self._list=self._list+other\n",
    "    def __len__(self):\n",
    "        return len(self._list)\n",
    "l = copy()\n",
    "l.copylist([1,2,3,4])\n",
    "type(l)\n",
    "print(l._list)\n",
    "print(len(l._list))"
   ]
  },
  {
   "cell_type": "code",
   "execution_count": 33,
   "id": "d943dd5d-fc9e-4c13-8d25-d31763be670f",
   "metadata": {},
   "outputs": [
    {
     "ename": "NameError",
     "evalue": "name 'self' is not defined",
     "output_type": "error",
     "traceback": [
      "\u001b[1;31m---------------------------------------------------------------------------\u001b[0m",
      "\u001b[1;31mNameError\u001b[0m                                 Traceback (most recent call last)",
      "Cell \u001b[1;32mIn[33], line 7\u001b[0m\n\u001b[0;32m      5\u001b[0m         \u001b[38;5;28mself\u001b[39m\u001b[38;5;241m.\u001b[39madd\u001b[38;5;241m=\u001b[39m\u001b[38;5;241m3\u001b[39m\n\u001b[0;32m      6\u001b[0m         \u001b[38;5;28;01mreturn\u001b[39;00m (\u001b[38;5;28mself\u001b[39m\u001b[38;5;241m.\u001b[39madd__\u001b[38;5;241m+\u001b[39m__self\u001b[38;5;241m.\u001b[39madd)\n\u001b[1;32m----> 7\u001b[0m \u001b[38;5;28mprint\u001b[39m(\u001b[38;5;28;43mself\u001b[39;49m\u001b[38;5;241m.\u001b[39madd__\u001b[38;5;241m+\u001b[39m__self\u001b[38;5;241m.\u001b[39madd)\n",
      "\u001b[1;31mNameError\u001b[0m: name 'self' is not defined"
     ]
    }
   ],
   "source": [
    "class Symboladd():\n",
    "    def __init__(self):\n",
    "        self.add=2\n",
    "    def add(self):\n",
    "        self.add=3\n",
    "        return (self.add__+__self.add)\n",
    "print(self.add__+__self.add)"
   ]
  },
  {
   "cell_type": "code",
   "execution_count": 45,
   "id": "9cd3dc52-4eb2-4fc6-b986-5ffda2d8771b",
   "metadata": {},
   "outputs": [
    {
     "name": "stdout",
     "output_type": "stream",
     "text": [
      "<__main__.Symboladd object at 0x000001FB16578C20>\n"
     ]
    },
    {
     "ename": "NameError",
     "evalue": "name 'a__' is not defined",
     "output_type": "error",
     "traceback": [
      "\u001b[1;31m---------------------------------------------------------------------------\u001b[0m",
      "\u001b[1;31mNameError\u001b[0m                                 Traceback (most recent call last)",
      "Cell \u001b[1;32mIn[45], line 14\u001b[0m\n\u001b[0;32m     12\u001b[0m \u001b[38;5;28mprint\u001b[39m(c)\n\u001b[0;32m     13\u001b[0m \u001b[38;5;28mtype\u001b[39m(c)\n\u001b[1;32m---> 14\u001b[0m \u001b[38;5;28mprint\u001b[39m(\u001b[43ma__\u001b[49m\u001b[38;5;241m+\u001b[39m__b)\n",
      "\u001b[1;31mNameError\u001b[0m: name 'a__' is not defined"
     ]
    }
   ],
   "source": [
    "#Unsolved problem\n",
    "class Symboladd:\n",
    "    def __init__(self):\n",
    "        self.a = 3\n",
    "    \n",
    "    def copytune(self):\n",
    "        b=Symboladd()\n",
    "        b.a=self.a\n",
    "        return b.a\n",
    "    def __add__(self):\n",
    "        return add(a__+__b)\n",
    "c=Symboladd()\n",
    "print(c)\n",
    "print(a__+__b)"
   ]
  },
  {
   "cell_type": "code",
   "execution_count": 46,
   "id": "1803a4d6-087e-43ad-81f8-4ca9af940e92",
   "metadata": {},
   "outputs": [
    {
     "ename": "NameError",
     "evalue": "name 'a' is not defined",
     "output_type": "error",
     "traceback": [
      "\u001b[1;31m---------------------------------------------------------------------------\u001b[0m",
      "\u001b[1;31mNameError\u001b[0m                                 Traceback (most recent call last)",
      "Cell \u001b[1;32mIn[46], line 11\u001b[0m\n\u001b[0;32m      9\u001b[0m     \u001b[38;5;28;01mdef\u001b[39;00m \u001b[38;5;21m__add__\u001b[39m(\u001b[38;5;28mself\u001b[39m):\n\u001b[0;32m     10\u001b[0m         \u001b[38;5;28;01mreturn\u001b[39;00m add(a\u001b[38;5;241m+\u001b[39mb)\n\u001b[1;32m---> 11\u001b[0m c\u001b[38;5;241m=\u001b[39m\u001b[43mSymboladd\u001b[49m\u001b[43m(\u001b[49m\u001b[43m)\u001b[49m\n\u001b[0;32m     12\u001b[0m \u001b[38;5;28mprint\u001b[39m(c)\n",
      "Cell \u001b[1;32mIn[46], line 4\u001b[0m, in \u001b[0;36mSymboladd.__init__\u001b[1;34m(self)\u001b[0m\n\u001b[0;32m      3\u001b[0m \u001b[38;5;28;01mdef\u001b[39;00m \u001b[38;5;21m__init__\u001b[39m(\u001b[38;5;28mself\u001b[39m):\n\u001b[1;32m----> 4\u001b[0m     \u001b[38;5;28mself\u001b[39m\u001b[38;5;241m.\u001b[39ma \u001b[38;5;241m=\u001b[39m \u001b[43ma\u001b[49m\n",
      "\u001b[1;31mNameError\u001b[0m: name 'a' is not defined"
     ]
    }
   ],
   "source": [
    "#Unsolved problem\n",
    "class Symboladd:\n",
    "    def __init__(self):\n",
    "        self.a = a\n",
    "    def copytune(self):\n",
    "        b=Symboladd()\n",
    "        b.a=self.a\n",
    "        return b.a\n",
    "    def __add__(self):\n",
    "        return add(a+b)\n",
    "c=Symboladd()\n",
    "print(c)\n"
   ]
  },
  {
   "cell_type": "code",
   "execution_count": 58,
   "id": "4ac222d8-e3fa-45a8-9f38-aed0fc598687",
   "metadata": {},
   "outputs": [
    {
     "name": "stdout",
     "output_type": "stream",
     "text": [
      "[1, 4, 6, 5]\n",
      "[1, 4, 6]\n"
     ]
    }
   ],
   "source": [
    "class NewSet():\n",
    "    def __init__(self):\n",
    "        self._list=[1,4,6]\n",
    "    def insert(self,ele):\n",
    "        self._list.append(ele)\n",
    "        return self._list\n",
    "    def remove(self,ele):\n",
    "        self._list.remove(ele)\n",
    "        return self._list\n",
    "a=NewSet()\n",
    "print(a.insert(5))\n",
    "print(a.remove(5))\n",
    "\n",
    "        "
   ]
  },
  {
   "cell_type": "code",
   "execution_count": 68,
   "id": "cd5b0984-c88c-4bbd-9424-cec7a0320d8a",
   "metadata": {},
   "outputs": [
    {
     "name": "stdout",
     "output_type": "stream",
     "text": [
      "[1, 4, 6, 5]\n",
      "False\n",
      "[1, 4, 6]\n"
     ]
    }
   ],
   "source": [
    "class NewSet():\n",
    "    def __init__(self):\n",
    "        self._list=[1,4,6]\n",
    "    def insert(self,ele):\n",
    "        if ele not in self._list:\n",
    "            self._list.append(ele)\n",
    "            return self._list\n",
    "    def remove(self,ele):\n",
    "        try:\n",
    "            self._list.remove(ele)\n",
    "            return self._list\n",
    "        except:\n",
    "            raise valueerror(str(ele),'Not found')\n",
    "    def is_member(self,ele):\n",
    "        return ele in self._list\n",
    "a=NewSet()\n",
    "print(a.insert(5))\n",
    "print(a.is_member(3))\n",
    "print(a.remove(5))\n",
    "\n",
    "        "
   ]
  },
  {
   "cell_type": "code",
   "execution_count": 73,
   "id": "a45d2c64-5816-4c07-a970-f84b12df613d",
   "metadata": {},
   "outputs": [
    {
     "name": "stdout",
     "output_type": "stream",
     "text": [
      "{'a': 8}\n"
     ]
    }
   ],
   "source": [
    "class dicmethod():\n",
    "    def __init__(self):\n",
    "        self.dic=dict()\n",
    "    def insert_pair(self,key,value):\n",
    "        self.dic[key]=value\n",
    "        return self.dic\n",
    "A=dicmethod()\n",
    "print(A.insert_pair(\"a\",8))"
   ]
  },
  {
   "cell_type": "code",
   "execution_count": 94,
   "id": "3a78a241-c1ab-4440-bad8-c7cf8cdfc8c9",
   "metadata": {},
   "outputs": [
    {
     "name": "stdin",
     "output_type": "stream",
     "text": [
      "r :  4\n"
     ]
    },
    {
     "name": "stdout",
     "output_type": "stream",
     "text": [
      "25.12\n",
      "50.24\n"
     ]
    }
   ],
   "source": [
    "class circle():\n",
    "    def __init__(self):\n",
    "        self.p = 0\n",
    "        self.a = 0\n",
    "    def circle_p(self,r):\n",
    "        self.p = 2*3.14*r\n",
    "        return self.p\n",
    "    def circle_a(self,r):\n",
    "        self.a = (3.14)*(r)*(r)\n",
    "        return self.a\n",
    "r=int(input('r : '))\n",
    "A = circle()\n",
    "P = A.circle_p(r)\n",
    "print(P)\n",
    "Ar = A.circle_a(r)\n",
    "print(Ar)\n"
   ]
  },
  {
   "cell_type": "code",
   "execution_count": 100,
   "id": "b1ef98f3-7e9b-4290-a207-de3012c63487",
   "metadata": {},
   "outputs": [
    {
     "name": "stdin",
     "output_type": "stream",
     "text": [
      "num of book :  3\n",
      "book: q\n",
      "book: w\n",
      "book: e\n"
     ]
    },
    {
     "name": "stdout",
     "output_type": "stream",
     "text": [
      "['q', 'w', 'e']\n"
     ]
    },
    {
     "name": "stdin",
     "output_type": "stream",
     "text": [
      "Search book: r\n"
     ]
    },
    {
     "name": "stdout",
     "output_type": "stream",
     "text": [
      "('r', 'is not available ')\n"
     ]
    }
   ],
   "source": [
    "class book():\n",
    "    def __init__(self):\n",
    "        self.lib=[]\n",
    "    def name(self ,num):\n",
    "        for i in range(num):\n",
    "            n = input('book:')\n",
    "            self.lib.append(n)\n",
    "        return self.lib \n",
    "    def search(self,s):\n",
    "        if s in self.lib:\n",
    "            return (s , 'is available ')\n",
    "        else :\n",
    "            return (s , 'is not available ' )\n",
    "        \n",
    "num = int(input('num of book : '))\n",
    "A = book()\n",
    "B= A.name(num)\n",
    "print(B)\n",
    "s=input(\"Search book:\")\n",
    "C = A.search(s)\n",
    "print(C)"
   ]
  },
  {
   "cell_type": "code",
   "execution_count": 105,
   "id": "3ab982ff-4f77-4ed9-87ab-a1f399df2d25",
   "metadata": {},
   "outputs": [],
   "source": [
    "from turtle import Turtle\n",
    "buddy=Turtle()\n",
    "buddy.forward(100)\n",
    "buddy.backward(100)"
   ]
  },
  {
   "cell_type": "code",
   "execution_count": 104,
   "id": "4fe5d3b1-b000-4d6d-8d96-3cdda9fc47e4",
   "metadata": {},
   "outputs": [
    {
     "data": {
      "text/plain": [
       "__main__.Constructor"
      ]
     },
     "execution_count": 104,
     "metadata": {},
     "output_type": "execute_result"
    }
   ],
   "source": [
    "class Constructor():\n",
    "    def __init__(self,a):\n",
    "        self.name='test'\n",
    "        self.a=a\n",
    "a = Constructor(10)\n",
    "type(a)"
   ]
  },
  {
   "cell_type": "code",
   "execution_count": 1,
   "id": "2b972760-a5f6-46af-a876-81e3aa926798",
   "metadata": {},
   "outputs": [
    {
     "name": "stdout",
     "output_type": "stream",
     "text": [
      "payal\n"
     ]
    }
   ],
   "source": [
    "class person(object):\n",
    "    def __init__(self,name):\n",
    "        self.name=name\n",
    "        self.dob=None\n",
    "    def get_name(self):\n",
    "        return self.name\n",
    "    def get_dob(self):\n",
    "        return self.dob\n",
    "class AU_person(person):\n",
    "    def __init__(self,name):\n",
    "        super().__init__(name)\n",
    "obj1=AU_person('payal')\n",
    "print(obj1.get_name())\n",
    "        "
   ]
  },
  {
   "cell_type": "code",
   "execution_count": 2,
   "id": "bdf539f1-ca50-4772-bf89-3f7bbe317eea",
   "metadata": {},
   "outputs": [
    {
     "name": "stdout",
     "output_type": "stream",
     "text": [
      "AU23B1001\n"
     ]
    }
   ],
   "source": [
    "class person(object):\n",
    "    def __init__(self, name):\n",
    "        self.name = name\n",
    "        self.dob = None\n",
    "\n",
    "    def get_name(self):\n",
    "        return self.name\n",
    "\n",
    "    def get_dob(self):\n",
    "        return self.dob\n",
    "\n",
    "class AU_person(person):\n",
    "    _new_enroll = 1\n",
    "\n",
    "    def __init__(self, name):\n",
    "        super().__init__(name)\n",
    "        self._id = AU_person._new_enroll\n",
    "        AU_person._new_enroll += 1\n",
    "        self._strval = 'AU23B100' + str(self._id)\n",
    "\n",
    "    def get_id(self):\n",
    "        return self._strval\n",
    "\n",
    "obj1 = AU_person('payal')\n",
    "print(obj1.get_id())\n"
   ]
  },
  {
   "cell_type": "code",
   "execution_count": null,
   "id": "771b4d27-fed2-4a9a-96da-4099846be991",
   "metadata": {},
   "outputs": [],
   "source": []
  }
 ],
 "metadata": {
  "kernelspec": {
   "display_name": "Python 3 (ipykernel)",
   "language": "python",
   "name": "python3"
  },
  "language_info": {
   "codemirror_mode": {
    "name": "ipython",
    "version": 3
   },
   "file_extension": ".py",
   "mimetype": "text/x-python",
   "name": "python",
   "nbconvert_exporter": "python",
   "pygments_lexer": "ipython3",
   "version": "3.12.2"
  }
 },
 "nbformat": 4,
 "nbformat_minor": 5
}
