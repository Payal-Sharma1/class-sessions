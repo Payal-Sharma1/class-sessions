{
 "cells": [
  {
   "cell_type": "code",
   "execution_count": 7,
   "id": "afda84a8-2c4b-469c-bf85-74de1d9dd972",
   "metadata": {},
   "outputs": [
    {
     "data": {
      "text/plain": [
       "'ruhi'"
      ]
     },
     "execution_count": 7,
     "metadata": {},
     "output_type": "execute_result"
    }
   ],
   "source": [
    "class B(A):\n",
    "    def __init__(self):\n",
    "        self.name=\"ritu\"\n",
    "        \n",
    "    def get_name(self):\n",
    "        return self.name\n",
    "class C(A):\n",
    "    def __init__(self):\n",
    "        super().__init__()\n",
    "        self.name=\"rani\"\n",
    "class C(A):\n",
    "    def __init__(self):\n",
    "        super().__init__()\n",
    "        self.name=\"juhi\"\n",
    "class D(A):\n",
    "    def __init__(self):\n",
    "        super().__init__()\n",
    "        self.name=\"ruhi\"\n",
    "obj= D()\n",
    "obj.get_name()\n",
    "\n",
    "        \n",
    "\n"
   ]
  },
  {
   "cell_type": "code",
   "execution_count": 20,
   "id": "40d31a73-4cbe-427f-8b44-fba93e6569a6",
   "metadata": {},
   "outputs": [
    {
     "name": "stdout",
     "output_type": "stream",
     "text": [
      "ritu\n"
     ]
    }
   ],
   "source": [
    "class A:\n",
    "    def __init__(self):\n",
    "        self.name = \"ritu\"\n",
    "        \n",
    "    def get_name(self):\n",
    "        return self.name\n",
    "\n",
    "class B:\n",
    "    def __init__(self):\n",
    "        self.name = \"rani\"\n",
    "        \n",
    "    def get_name(self):\n",
    "        return self.name\n",
    "\n",
    "class C:\n",
    "    def __init__(self):\n",
    "        self.name = \"juhi\"\n",
    "        \n",
    "    def get_name(self):\n",
    "        return self.name\n",
    "\n",
    "class D(A, B, C):\n",
    "    def __init__(self):\n",
    "        super().__init__()\n",
    "\n",
    "obj = D()\n",
    "print(obj.get_name())\n"
   ]
  },
  {
   "cell_type": "code",
   "execution_count": 12,
   "id": "b845a999-903a-401d-a84e-820d727fe33a",
   "metadata": {},
   "outputs": [
    {
     "ename": "NameError",
     "evalue": "name 'car' is not defined",
     "output_type": "error",
     "traceback": [
      "\u001b[1;31m---------------------------------------------------------------------------\u001b[0m",
      "\u001b[1;31mNameError\u001b[0m                                 Traceback (most recent call last)",
      "Cell \u001b[1;32mIn[12], line 9\u001b[0m\n\u001b[0;32m      7\u001b[0m     \u001b[38;5;28mprint\u001b[39m(\u001b[38;5;124m\"\u001b[39m\u001b[38;5;124mfrom class 1\u001b[39m\u001b[38;5;124m\"\u001b[39m)\n\u001b[0;32m      8\u001b[0m     \u001b[38;5;28;01mreturn\u001b[39;00m \u001b[38;5;28mself\u001b[39m\u001b[38;5;241m.\u001b[39mmodel\n\u001b[1;32m----> 9\u001b[0m \u001b[38;5;28;01mclass\u001b[39;00m \u001b[38;5;21;01mUbar\u001b[39;00m(\u001b[43mcar\u001b[49m,Electrical):\n\u001b[0;32m     10\u001b[0m     \u001b[38;5;28mprint\u001b[39m(\u001b[38;5;124m\"\u001b[39m\u001b[38;5;124mfrom class 2\u001b[39m\u001b[38;5;124m\"\u001b[39m)\n\u001b[0;32m     11\u001b[0m     \u001b[38;5;28;01mdef\u001b[39;00m \u001b[38;5;21m__init__\u001b[39m(\u001b[38;5;28mself\u001b[39m,model,year,cost):\n",
      "\u001b[1;31mNameError\u001b[0m: name 'car' is not defined"
     ]
    }
   ],
   "source": [
    "class vehicle():\n",
    "    def __init__(self,model,year,cost):\n",
    "        self.model=model\n",
    "        self.year=year\n",
    "        self.cost=cost\n",
    "def get_car_details(self):\n",
    "    print(\"from class 1\")\n",
    "    return self.model\n",
    "class Ubar(car,Electrical):\n",
    "    print(\"from class 2\")\n",
    "    def __init__(self,model,year,cost):\n",
    "        super().__init__(model,year,cost)\n",
    "Taxi1=Ubar('BMW',2024,5000)\n",
    "Taxi2=Ubar('TATA',2023,600)\n",
    "print(Taxi1._get_car_details())\n",
    "    "
   ]
  },
  {
   "cell_type": "code",
   "execution_count": 22,
   "id": "51fe37de-c250-49c5-9222-8cad958a30a5",
   "metadata": {},
   "outputs": [
    {
     "name": "stdout",
     "output_type": "stream",
     "text": [
      "from class1\n",
      "BMW\n"
     ]
    }
   ],
   "source": [
    "class Vehicle:\n",
    "    def __init__(self, brand, year, cost):\n",
    "        self.brand = brand\n",
    "        self.year = year\n",
    "        self.cost = cost\n",
    "\n",
    "    def get_car_details(self):\n",
    "        print('from class1')\n",
    "        return self.brand\n",
    "\n",
    "class ElectricVehicle:\n",
    "    def _init_(self, brand, year, cost):\n",
    "        self.brand = brand\n",
    "        self.year = year\n",
    "        self.cost = cost\n",
    "\n",
    "    def get_car_details(self):\n",
    "        print('from class2')\n",
    "        return self.brand\n",
    "\n",
    "class Ubar(Vehicle, ElectricVehicle):\n",
    "    def _init_(self, brand, year, cost):\n",
    "        super()._init_(brand, year, cost)\n",
    "\n",
    "taxi1 = Ubar('BMW', 2000, 500)\n",
    "taxi2 = Ubar('TATA', 2023, 600)\n",
    "print(taxi1.get_car_details())\n"
   ]
  },
  {
   "cell_type": "code",
   "execution_count": 15,
   "id": "9e63b2ce-c441-403f-a631-99e08aa0220e",
   "metadata": {},
   "outputs": [
    {
     "name": "stdout",
     "output_type": "stream",
     "text": [
      "5000.0\n",
      "5000.0\n",
      "2\n"
     ]
    }
   ],
   "source": [
    "class AndroidHandset:\n",
    "    _modelcount = 1\n",
    "    BasePrice = 10000\n",
    "    Year = 2024\n",
    "    \n",
    "    def __init__(self, _brandname, _modelyear):\n",
    "        self._brandname = _brandname\n",
    "        self._modelyear = _modelyear\n",
    "        self.count = AndroidHandset._modelcount\n",
    "        AndroidHandset._modelcount += 1\n",
    "        \n",
    "    def get_value(self):\n",
    "        age = AndroidHandset.Year - self._modelyear\n",
    "        if age < 1:\n",
    "            return 'The product should be at least one year old.'\n",
    "        else:\n",
    "            value = AndroidHandset.BasePrice * (1 / age)\n",
    "            return value\n",
    "\n",
    "class IosHandset(AndroidHandset):\n",
    "    def __init__(self, brandname, _modelyear):\n",
    "        super().__init__(brandname, _modelyear)\n",
    "        \n",
    "    def get_value(self):\n",
    "        AndroidHandset.BasePrice = 20000\n",
    "        age = AndroidHandset.Year - self._modelyear\n",
    "        return AndroidHandset.BasePrice * (1 / age)\n",
    "\n",
    "obj = AndroidHandset('nok', 2022)\n",
    "print(obj.get_value())\n",
    "\n",
    "obj1 = AndroidHandset('sa', 2022)\n",
    "print(obj1.get_value())\n",
    "print(obj1.count)\n"
   ]
  },
  {
   "cell_type": "code",
   "execution_count": 31,
   "id": "909dd523-d14f-4236-ab38-f1d83f24f4be",
   "metadata": {},
   "outputs": [
    {
     "name": "stdout",
     "output_type": "stream",
     "text": [
      "30\n"
     ]
    }
   ],
   "source": [
    "class addition:\n",
    "    def __init__(self, value):\n",
    "        self.value = value\n",
    "    \n",
    "    def __add__(self, other):\n",
    "        return self.value + other\n",
    "\n",
    "p1 = 10\n",
    "p2 = 20\n",
    "result = p1.__add__(p2)\n",
    "print(result)\n"
   ]
  },
  {
   "cell_type": "code",
   "execution_count": 36,
   "id": "b35c0002-751b-46e3-84cf-2f192bef556f",
   "metadata": {},
   "outputs": [
    {
     "name": "stdout",
     "output_type": "stream",
     "text": [
      "-10\n"
     ]
    }
   ],
   "source": [
    "class substraction:\n",
    "    def __init__(self, value):\n",
    "        self.value = value\n",
    "    \n",
    "    def __sub__(self, other):\n",
    "        return self.value - other\n",
    "\n",
    "p1 = 10\n",
    "p2 = 20\n",
    "result = p1.__sub__(p2)\n",
    "print(result)\n"
   ]
  },
  {
   "cell_type": "code",
   "execution_count": 37,
   "id": "8c67b897-e06e-4004-b5bd-c9699e18de6d",
   "metadata": {},
   "outputs": [
    {
     "name": "stdout",
     "output_type": "stream",
     "text": [
      "200\n"
     ]
    }
   ],
   "source": [
    "class multiplication:\n",
    "    def __init__(self, value):\n",
    "        self.value = value\n",
    "    \n",
    "    def __mul__(self, other):\n",
    "        return self.value - other\n",
    "\n",
    "p1 = 10\n",
    "p2 = 20\n",
    "result = p1.__mul__(p2)\n",
    "print(result)\n"
   ]
  },
  {
   "cell_type": "code",
   "execution_count": 39,
   "id": "98d40e4b-e336-4127-bfc7-5ad5d07944c7",
   "metadata": {},
   "outputs": [
    {
     "ename": "AttributeError",
     "evalue": "'int' object has no attribute '__divi__'",
     "output_type": "error",
     "traceback": [
      "\u001b[1;31m---------------------------------------------------------------------------\u001b[0m",
      "\u001b[1;31mAttributeError\u001b[0m                            Traceback (most recent call last)",
      "Cell \u001b[1;32mIn[39], line 10\u001b[0m\n\u001b[0;32m      8\u001b[0m p1 \u001b[38;5;241m=\u001b[39m \u001b[38;5;241m10\u001b[39m\n\u001b[0;32m      9\u001b[0m p2 \u001b[38;5;241m=\u001b[39m \u001b[38;5;241m20\u001b[39m\n\u001b[1;32m---> 10\u001b[0m result \u001b[38;5;241m=\u001b[39m \u001b[43mp1\u001b[49m\u001b[38;5;241;43m.\u001b[39;49m\u001b[43m__divi__\u001b[49m(p2)\n\u001b[0;32m     11\u001b[0m \u001b[38;5;28mprint\u001b[39m(result)\n",
      "\u001b[1;31mAttributeError\u001b[0m: 'int' object has no attribute '__divi__'"
     ]
    }
   ],
   "source": [
    "class division:\n",
    "    def __init__(self, value):\n",
    "        self.value = value\n",
    "    \n",
    "    def __div__(self, other):\n",
    "        return self.value - other\n",
    "\n",
    "p1 = 10\n",
    "p2 = 20\n",
    "result = p1.__div__(p2)\n",
    "print(result)\n"
   ]
  },
  {
   "cell_type": "code",
   "execution_count": null,
   "id": "a4bb32e3-35f8-41ee-8f7d-64e567ade8df",
   "metadata": {},
   "outputs": [],
   "source": []
  }
 ],
 "metadata": {
  "kernelspec": {
   "display_name": "Python 3 (ipykernel)",
   "language": "python",
   "name": "python3"
  },
  "language_info": {
   "codemirror_mode": {
    "name": "ipython",
    "version": 3
   },
   "file_extension": ".py",
   "mimetype": "text/x-python",
   "name": "python",
   "nbconvert_exporter": "python",
   "pygments_lexer": "ipython3",
   "version": "3.12.2"
  }
 },
 "nbformat": 4,
 "nbformat_minor": 5
}
